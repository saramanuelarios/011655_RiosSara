{
 "cells": [
  {
   "cell_type": "markdown",
   "metadata": {},
   "source": [
    "# TALLER 1"
   ]
  },
  {
   "cell_type": "markdown",
   "metadata": {},
   "source": [
    "14. Leer una cadena de texto y organice alfabéticamente cada una de las letras que la componen, repitiendo cada una\n",
    "tantas veces como se encuentra. Por ejemplo, la cadena ‘tarea importante’ será ‘aaaeeimnoprrttt’. (Note que no se\n",
    "incluyen los espacios)."
   ]
  },
  {
   "cell_type": "code",
   "execution_count": null,
   "metadata": {},
   "outputs": [],
   "source": [
    "texto = input('Digite un de texto: ')\n",
    "texto_2 = texto.replace(' ','')\n",
    "\n",
    "alfabeto = ['a','A','á','Á','b','B','c','C','d','D','e','E','é','É','f','F',\\\n",
    "            'g','G','h','H','i','I','í','Í','j','J','k','K','l','L','m','M',\\\n",
    "            'n','N','ñ','Ñ','o','O','p','P','q','Q','r','R','s','S','t','T',\\\n",
    "            'u','U','ü','Ü','v','V','w','W','x','X','y','Y','z','Z']\n",
    "\n",
    "texto_num = []          #Lista del indexado cada letra deL texto\n",
    "for i in texto_2:\n",
    "    indexado = 0  \n",
    "    for j in alfabeto:\n",
    "        if i == j:\n",
    "            indexado = alfabeto.index(j)\n",
    "            texto_num.append(indexado)\n",
    "    \n",
    "texto_ord = sorted(texto_num) #Se ordena el indexado de cada letra\n",
    "\n",
    "print(f'{texto} letras ordenadas alfabeticamente:\\\n",
    " ', end= '')\n",
    "\n",
    "for i in texto_ord:\n",
    "    print(f'{alfabeto[i]}',end = '')"
   ]
  },
  {
   "cell_type": "markdown",
   "metadata": {},
   "source": [
    "19. Leer una lista e identifique la sublista más larga dentro de dicha lista que se encuentra ordenada ascendentemente.\n",
    "Por ejemplo, en la lista [5, 6, 5, 1, 2, 6, 9, 2, 4, 1] la mayor sublista ordenada es la [1, 2, 6, 9]."
   ]
  },
  {
   "cell_type": "code",
   "execution_count": null,
   "metadata": {},
   "outputs": [],
   "source": [
    "def lista_16():\n",
    "    while True:\n",
    "        try:\n",
    "            x_16=eval(input('Escriba una lista'))\n",
    "            if type(x_16) is list:\n",
    "                break\n",
    "            else:\n",
    "                print('Las listas deben estar separadas por comas')\n",
    "        except SyntaxError:\n",
    "            print('Por favor, ingrese una lista')\n",
    "    return x_16\n",
    "\n",
    "m=lista_16()       \n",
    "m.insert(0,0)\n",
    "I=[[]]\n",
    "\n",
    "val_1=0\n",
    "val_2=0\n",
    "                         #lista de sub-listas\n",
    "for i in range(len(m)):\n",
    "    if m[i] >= m[i-1]:\n",
    "        I[val_1].append(m[i])\n",
    "    else:\n",
    "        val_1+=1\n",
    "        I.append([])\n",
    "\n",
    "C=0\n",
    "                         #ciclo que identifica cual lista es mas larga\n",
    "for i in I:\n",
    "    if len(i)>val_2:\n",
    "        C1=(len(i))\n",
    "        if C1>C:\n",
    "                C=C1\n",
    "                newcad=i\n",
    "\n",
    "print(f'La sublista mas larga es: {newcad}')"
   ]
  }
 ],
 "metadata": {
  "kernelspec": {
   "display_name": "Python 3",
   "language": "python",
   "name": "python3"
  },
  "language_info": {
   "codemirror_mode": {
    "name": "ipython",
    "version": 3
   },
   "file_extension": ".py",
   "mimetype": "text/x-python",
   "name": "python",
   "nbconvert_exporter": "python",
   "pygments_lexer": "ipython3",
   "version": "3.7.3"
  }
 },
 "nbformat": 4,
 "nbformat_minor": 2
}
